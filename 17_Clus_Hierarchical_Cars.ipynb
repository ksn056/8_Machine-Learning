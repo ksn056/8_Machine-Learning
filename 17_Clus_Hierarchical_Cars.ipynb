{
  "nbformat": 4,
  "nbformat_minor": 0,
  "metadata": {
    "kernelspec": {
      "display_name": "Python 3 (ipykernel)",
      "language": "python",
      "name": "python3"
    },
    "language_info": {
      "codemirror_mode": {
        "name": "ipython",
        "version": 3
      },
      "file_extension": ".py",
      "mimetype": "text/x-python",
      "name": "python",
      "nbconvert_exporter": "python",
      "pygments_lexer": "ipython3",
      "version": "3.9.7"
    },
    "colab": {
      "provenance": []
    }
  },
  "cells": [
    {
      "cell_type": "markdown",
      "metadata": {
        "id": "uqUZdLQl5uNF"
      },
      "source": [
        "\n",
        "\n",
        "# Hierarchical Clustering\n",
        "\n",
        "\n",
        "\n",
        "## Objectives\n",
        "\n",
        "After completing this lab you will be able to:\n",
        "\n",
        "*   Use scikit-learn to do Hierarchical clustering\n",
        "*   Create dendograms to visualize the clustering\n"
      ]
    },
    {
      "cell_type": "markdown",
      "metadata": {
        "id": "AFSvzKBb5uNO"
      },
      "source": [
        "<h1>Table of contents</h1>\n",
        "\n",
        "<div class=\"alert alert-block alert-info\" style=\"margin-top: 20px\">\n",
        "    <ol>\n",
        "        <li><a href=\"https://#hierarchical_agglomerative\">Hierarchical Clustering - Agglomerative</a></li>\n",
        "            <ol>\n",
        "                <li><a href=\"https://#generating_data\">Generating Random Data</a></li>\n",
        "                <li><a href=\"https://#agglomerative_clustering\">Agglomerative Clustering</a></li>\n",
        "                <li><a href=\"https://#dendrogram\">Dendrogram Associated for the Agglomerative Hierarchical Clustering</a></li>\n",
        "            </ol>            \n",
        "        <li><a href=\"https://#clustering_vehicle_dataset\">Clustering on the Vehicle Dataset</a></li>\n",
        "            <ol>\n",
        "                <li><a href=\"https://#data_cleaning\">Data Cleaning</a></li>\n",
        "                <li><a href=\"https://#clustering_using_scipy\">Clustering Using Scipy</a></li>\n",
        "                <li><a href=\"https://#clustering_using_skl\">Clustering using scikit-learn</a></li>\n",
        "            </ol>\n",
        "    </ol>\n",
        "</div>\n",
        "<br>\n",
        "<hr>\n"
      ]
    },
    {
      "cell_type": "markdown",
      "metadata": {
        "id": "9rzUFfoa5uNQ"
      },
      "source": [
        "<h1 id=\"hierarchical_agglomerative\">Hierarchical Clustering - Agglomerative</h1>\n",
        "\n",
        "We will be looking at a clustering technique, which is <b>Agglomerative Hierarchical Clustering</b>. Remember that agglomerative is the bottom up approach. <br> <br>\n",
        "In this lab, we will be looking at Agglomerative clustering, which is more popular than Divisive clustering. <br> <br>\n",
        "We will also be using Complete Linkage as the Linkage Criteria. <br> <b> <i> NOTE: You can also try using Average Linkage wherever Complete Linkage would be used to see the difference! </i> </b>\n"
      ]
    },
    {
      "cell_type": "code",
      "metadata": {
        "id": "TRu-Q-l55uNS"
      },
      "source": [
        "import numpy as np\n",
        "import pandas as pd\n",
        "from scipy import ndimage\n",
        "from scipy.cluster import hierarchy\n",
        "from scipy.spatial import distance_matrix\n",
        "from matplotlib import pyplot as plt\n",
        "from sklearn import manifold, datasets\n",
        "from sklearn.cluster import AgglomerativeClustering\n",
        "from sklearn.datasets.samples_generator import make_blobs\n",
        "%matplotlib inline"
      ],
      "execution_count": null,
      "outputs": []
    },
    {
      "cell_type": "markdown",
      "metadata": {
        "id": "Af5RNhBG5uNV"
      },
      "source": [
        "<hr>\n",
        "<h3 id=\"generating_data\">Generating Random Data</h3>\n",
        "We will be generating a set of data using the <b>make_blobs</b> class. <br> <br>\n",
        "Input these parameters into make_blobs:\n",
        "<ul>\n",
        "    <li> <b>n_samples</b>: The total number of points equally divided among clusters. </li>\n",
        "    <ul> <li> Choose a number from 10-1500 </li> </ul>\n",
        "    <li> <b>centers</b>: The number of centers to generate, or the fixed center locations. </li>\n",
        "    <ul> <li> Choose arrays of x,y coordinates for generating the centers. Have 1-10 centers (ex. centers=[[1,1], [2,5]]) </li> </ul>\n",
        "    <li> <b>cluster_std</b>: The standard deviation of the clusters. The larger the number, the further apart the clusters</li>\n",
        "    <ul> <li> Choose a number between 0.5-1.5 </li> </ul>\n",
        "</ul> <br>\n",
        "Save the result to <b>X1</b> and <b>y1</b>.\n"
      ]
    },
    {
      "cell_type": "code",
      "metadata": {
        "id": "iTQ7tyhL5uNY"
      },
      "source": [
        "X1, y1 = make_blobs(n_samples=50, centers=[[4,4], [-2, -1], [1, 1], [10,4]], cluster_std=0.9)"
      ],
      "execution_count": null,
      "outputs": []
    },
    {
      "cell_type": "markdown",
      "metadata": {
        "id": "sHBzipFt5uNZ"
      },
      "source": [
        "Plot the scatter plot of the randomly generated data.\n"
      ]
    },
    {
      "cell_type": "code",
      "metadata": {
        "id": "mvDUhWI85uNa"
      },
      "source": [
        "plt.scatter(X1[:, 0], X1[:, 1], marker='o')"
      ],
      "execution_count": null,
      "outputs": []
    },
    {
      "cell_type": "markdown",
      "metadata": {
        "id": "0y681iHL5uNb"
      },
      "source": [
        "<hr>\n",
        "<h3 id=\"agglomerative_clustering\">Agglomerative Clustering</h3>\n",
        "\n",
        "We will start by clustering the random data points we just created.\n"
      ]
    },
    {
      "cell_type": "markdown",
      "metadata": {
        "id": "J3WYl9oH5uNd"
      },
      "source": [
        "The <b> Agglomerative Clustering </b> class will require two inputs:\n",
        "\n",
        "<ul>\n",
        "    <li> <b>n_clusters</b>: The number of clusters to form as well as the number of centroids to generate. </li>\n",
        "    <ul> <li> Value will be: 4 </li> </ul>\n",
        "    <li> <b>linkage</b>: Which linkage criterion to use. The linkage criterion determines which distance to use between sets of observation. The algorithm will merge the pairs of cluster that minimize this criterion. </li>\n",
        "    <ul>\n",
        "        <li> Value will be: 'complete' </li>\n",
        "        <li> <b>Note</b>: It is recommended you try everything with 'average' as well </li>\n",
        "    </ul>\n",
        "</ul> <br>\n",
        "Save the result to a variable called <b> agglom </b>.\n"
      ]
    },
    {
      "cell_type": "code",
      "metadata": {
        "id": "UpMv4Rst5uNe"
      },
      "source": [
        "agglom = AgglomerativeClustering(n_clusters = 4, linkage = 'average')"
      ],
      "execution_count": null,
      "outputs": []
    },
    {
      "cell_type": "markdown",
      "metadata": {
        "id": "O0MTxfdU5uNf"
      },
      "source": [
        "Fit the model with <b> X2 </b> and <b> y2 </b> from the generated data above.\n"
      ]
    },
    {
      "cell_type": "code",
      "metadata": {
        "scrolled": true,
        "id": "Y5eNR3h85uNg"
      },
      "source": [
        "agglom.fit(X1,y1)"
      ],
      "execution_count": null,
      "outputs": []
    },
    {
      "cell_type": "markdown",
      "metadata": {
        "id": "GgxRnGUz5uNh"
      },
      "source": [
        "Run the following code to show the clustering! <br>\n",
        "Remember to read the code and comments to gain more understanding on how the plotting works.\n"
      ]
    },
    {
      "cell_type": "code",
      "metadata": {
        "id": "6rKb7a9L5uNi"
      },
      "source": [
        "# Create a figure of size 6 inches by 4 inches.\n",
        "plt.figure(figsize=(6,4))\n",
        "\n",
        "# These two lines of code are used to scale the data points down,\n",
        "# Or else the data points will be scattered very far apart.\n",
        "\n",
        "# Create a minimum and maximum range of X1.\n",
        "x_min, x_max = np.min(X1, axis=0), np.max(X1, axis=0)\n",
        "\n",
        "# Get the average distance for X1.\n",
        "X1 = (X1 - x_min) / (x_max - x_min)\n",
        "\n",
        "# This loop displays all of the datapoints.\n",
        "for i in range(X1.shape[0]):\n",
        "    # Replace the data points with their respective cluster value\n",
        "    # (ex. 0) and is color coded with a colormap (plt.cm.spectral)\n",
        "    plt.text(X1[i, 0], X1[i, 1], str(y1[i]),\n",
        "             color=plt.cm.nipy_spectral(agglom.labels_[i] / 10.),\n",
        "             fontdict={'weight': 'bold', 'size': 9})\n",
        "\n",
        "# Remove the x ticks, y ticks, x and y axis\n",
        "plt.xticks([])\n",
        "plt.yticks([])\n",
        "#plt.axis('off')\n",
        "\n",
        "\n",
        "\n",
        "# Display the plot of the original data before clustering\n",
        "plt.scatter(X1[:, 0], X1[:, 1], marker='.')\n",
        "# Display the plot\n",
        "plt.show()"
      ],
      "execution_count": null,
      "outputs": []
    },
    {
      "cell_type": "markdown",
      "metadata": {
        "id": "2tDMPF1e5uNj"
      },
      "source": [
        "<h3 id=\"dendrogram\">Dendrogram Associated for the Agglomerative Hierarchical Clustering</h3>\n",
        "\n",
        "Remember that a <b>distance matrix</b> contains the <b> distance from each point to every other point of a dataset </b>.\n",
        "\n",
        "Use the function <b> distance_matrix, </b> which requires <b>two inputs</b>. Use the Feature Matrix, <b> X1 </b> as both inputs and save the distance matrix to a variable called <b> dist_matrix </b> <br> <br>\n",
        "Remember that the distance values are symmetric, with a diagonal of 0's. This is one way of making sure your matrix is correct. <br> (print out dist_matrix to make sure it's correct)\n"
      ]
    },
    {
      "cell_type": "code",
      "metadata": {
        "scrolled": true,
        "id": "kZ03TmbD5uNk"
      },
      "source": [
        "dist_matrix = distance_matrix(X1,X1)\n",
        "print(dist_matrix)"
      ],
      "execution_count": null,
      "outputs": []
    },
    {
      "cell_type": "markdown",
      "metadata": {
        "id": "VDCHyEMQ5uNl"
      },
      "source": [
        "Using the <b> linkage </b> class from hierarchy, pass in the parameters:\n",
        "\n",
        "<ul>\n",
        "    <li> The distance matrix </li>\n",
        "    <li> 'complete' for complete linkage </li>\n",
        "</ul> <br>\n",
        "Save the result to a variable called <b> Z </b>.\n"
      ]
    },
    {
      "cell_type": "code",
      "metadata": {
        "id": "GfaUT-ii5uNm"
      },
      "source": [
        "Z = hierarchy.linkage(dist_matrix, 'complete')"
      ],
      "execution_count": null,
      "outputs": []
    },
    {
      "cell_type": "markdown",
      "metadata": {
        "id": "VV45cFuX5uNn"
      },
      "source": [
        "A Hierarchical clustering is typically visualized as a dendrogram as shown in the following cell. Each merge is represented by a horizontal line. The y-coordinate of the horizontal line is the similarity of the two clusters that were merged, where cities are viewed as singleton clusters.\n",
        "By moving up from the bottom layer to the top node, a dendrogram allows us to reconstruct the history of merges that resulted in the depicted clustering.\n",
        "\n",
        "Next, we will save the dendrogram to a variable called <b>dendro</b>. In doing this, the dendrogram will also be displayed.\n",
        "Using the <b> dendrogram </b> class from hierarchy, pass in the parameter:\n",
        "\n",
        "<ul> <li> Z </li> </ul>\n"
      ]
    },
    {
      "cell_type": "code",
      "metadata": {
        "id": "gDkuSDFy5uNo"
      },
      "source": [
        "dendro = hierarchy.dendrogram(Z)"
      ],
      "execution_count": null,
      "outputs": []
    },
    {
      "cell_type": "markdown",
      "metadata": {
        "id": "HIpUqRU_5uNp"
      },
      "source": [
        "## Practice\n",
        "\n",
        "We used **complete** linkage for our case, change it to **average** linkage to see how the dendogram changes.\n"
      ]
    },
    {
      "cell_type": "code",
      "metadata": {
        "id": "m4FcoAPn5uNq"
      },
      "source": [
        "# write your code here\n",
        "\n"
      ],
      "execution_count": null,
      "outputs": []
    },
    {
      "cell_type": "markdown",
      "metadata": {
        "id": "fCys59I35uNr"
      },
      "source": [
        "<details><summary>Click here for the solution</summary>\n",
        "\n",
        "```python\n",
        "Z = hierarchy.linkage(dist_matrix, 'average')\n",
        "dendro = hierarchy.dendrogram(Z)\n",
        "\n",
        "```\n",
        "\n",
        "</details>\n"
      ]
    },
    {
      "cell_type": "markdown",
      "metadata": {
        "id": "2UbeQiPu5uNs"
      },
      "source": [
        "<hr>\n",
        "<h1 id=\"clustering_vehicle_dataset\">Clustering on Vehicle dataset</h1>\n",
        "\n",
        "Imagine that an automobile manufacturer has developed prototypes for a new vehicle. Before introducing the new model into its range, the manufacturer wants to determine which existing vehicles on the market are most like the prototypes--that is, how vehicles can be grouped, which group is the most similar with the model, and therefore which models they will be competing against.\n",
        "\n",
        "Our objective here, is to use clustering methods, to find the most distinctive clusters of vehicles. It will summarize the existing vehicles and help manufacturers to make decision about the supply of new models.\n"
      ]
    },
    {
      "cell_type": "markdown",
      "metadata": {
        "id": "4UgzLqlk5uNt"
      },
      "source": [
        "### Download data\n",
        "\n",
        "To download the data, we will use **`!wget`** to download it from IBM Object Storage.\\\n",
        "**Did you know?** When it comes to Machine Learning, you will likely be working with large datasets. As a business, where can you host your data? IBM is offering a unique opportunity for businesses, with 10 Tb of IBM Cloud Object Storage: [Sign up now for free](http://cocl.us/ML0101EN-IBM-Offer-CC)\n"
      ]
    },
    {
      "cell_type": "code",
      "metadata": {
        "id": "JUFtJ9Bd5uNu"
      },
      "source": [
        "!wget -O cars_clus.csv https://cf-courses-data.s3.us.cloud-object-storage.appdomain.cloud/IBMDeveloperSkillsNetwork-ML0101EN-SkillsNetwork/labs/Module%204/data/cars_clus.csv"
      ],
      "execution_count": null,
      "outputs": []
    },
    {
      "cell_type": "markdown",
      "metadata": {
        "id": "elH3ZjS75uNu"
      },
      "source": [
        "## Read data\n",
        "\n",
        "Let's read dataset to see what features the manufacturer has collected about the existing models.\n"
      ]
    },
    {
      "cell_type": "code",
      "metadata": {
        "id": "6XPvat8O5uNv"
      },
      "source": [
        "filename = 'cars_clus.csv'\n",
        "\n",
        "#Read csv\n",
        "pdf = pd.read_csv(filename)\n",
        "print (\"Shape of dataset: \", pdf.shape)\n",
        "\n",
        "pdf.head(5)"
      ],
      "execution_count": null,
      "outputs": []
    },
    {
      "cell_type": "markdown",
      "metadata": {
        "id": "IUB4tsyv5uNw"
      },
      "source": [
        "The feature sets include  price in thousands (price), engine size (engine_s), horsepower (horsepow), wheelbase (wheelbas), width (width), length (length), curb weight (curb_wgt), fuel capacity (fuel_cap) and fuel efficiency (mpg).\n"
      ]
    },
    {
      "cell_type": "markdown",
      "metadata": {
        "id": "5bHhLQP_5uNx"
      },
      "source": [
        "<h2 id=\"data_cleaning\">Data Cleaning</h2>\n",
        "\n",
        "Let's clean the dataset by dropping the rows that have null value:\n"
      ]
    },
    {
      "cell_type": "code",
      "metadata": {
        "id": "3RUKptZ-5uNy"
      },
      "source": [
        "print (\"Shape of dataset before cleaning: \", pdf.size)\n",
        "pdf[[ 'sales', 'resale', 'type', 'price', 'engine_s',\n",
        "       'horsepow', 'wheelbas', 'width', 'length', 'curb_wgt', 'fuel_cap',\n",
        "       'mpg', 'lnsales']] = pdf[['sales', 'resale', 'type', 'price', 'engine_s',\n",
        "       'horsepow', 'wheelbas', 'width', 'length', 'curb_wgt', 'fuel_cap',\n",
        "       'mpg', 'lnsales']].apply(pd.to_numeric, errors='coerce')\n",
        "pdf = pdf.dropna()\n",
        "pdf = pdf.reset_index(drop=True)\n",
        "print (\"Shape of dataset after cleaning: \", pdf.size)\n",
        "pdf.head(5)"
      ],
      "execution_count": null,
      "outputs": []
    },
    {
      "cell_type": "markdown",
      "metadata": {
        "id": "MCAyDI0z5uNz"
      },
      "source": [
        "### Feature selection\n",
        "\n",
        "Let's select our feature set:\n"
      ]
    },
    {
      "cell_type": "code",
      "metadata": {
        "id": "SNSDvG3A5uN0"
      },
      "source": [
        "featureset = pdf[['engine_s',  'horsepow', 'wheelbas', 'width', 'length', 'curb_wgt', 'fuel_cap', 'mpg']]"
      ],
      "execution_count": null,
      "outputs": []
    },
    {
      "cell_type": "markdown",
      "metadata": {
        "id": "S1r9Ek-r5uN1"
      },
      "source": [
        "### Normalization\n",
        "\n",
        "Now we can normalize the feature set. **MinMaxScaler** transforms features by scaling each feature to a given range. It is by default (0, 1). That is, this estimator scales and translates each feature individually such that it is between zero and one.\n"
      ]
    },
    {
      "cell_type": "code",
      "metadata": {
        "id": "7e5ZDBy-5uN2"
      },
      "source": [
        "from sklearn.preprocessing import MinMaxScaler\n",
        "x = featureset.values #returns a numpy array\n",
        "min_max_scaler = MinMaxScaler()\n",
        "feature_mtx = min_max_scaler.fit_transform(x)\n",
        "feature_mtx [0:5]"
      ],
      "execution_count": null,
      "outputs": []
    },
    {
      "cell_type": "markdown",
      "metadata": {
        "id": "EIMRd-x25uN2"
      },
      "source": [
        "<h2 id=\"clustering_using_scipy\">Clustering using Scipy</h2>\n",
        "\n",
        "In this part we use Scipy package to cluster the dataset.\n",
        "\n",
        "First, we calculate the distance matrix.\n"
      ]
    },
    {
      "cell_type": "code",
      "metadata": {
        "id": "EaZIVHXt5uN3"
      },
      "source": [
        "import scipy\n",
        "leng = feature_mtx.shape[0]\n",
        "D = scipy.zeros([leng,leng])\n",
        "for i in range(leng):\n",
        "    for j in range(leng):\n",
        "        D[i,j] = scipy.spatial.distance.euclidean(feature_mtx[i], feature_mtx[j])\n",
        "D"
      ],
      "execution_count": null,
      "outputs": []
    },
    {
      "cell_type": "markdown",
      "metadata": {
        "id": "ECxSX6bl5uN4"
      },
      "source": [
        "In agglomerative clustering, at each iteration, the algorithm must update the distance matrix to reflect the distance of the newly formed cluster with the remaining clusters in the forest.\n",
        "The following methods are supported in Scipy for calculating the distance between the newly formed cluster and each:\n",
        "\\- single\n",
        "\\- complete\n",
        "\\- average\n",
        "\\- weighted\n",
        "\\- centroid\n",
        "\n",
        "We use **complete** for our case, but feel free to change it to see how the results change.\n"
      ]
    },
    {
      "cell_type": "code",
      "metadata": {
        "id": "glo_JoUv5uN5"
      },
      "source": [
        "import pylab\n",
        "import scipy.cluster.hierarchy\n",
        "Z = hierarchy.linkage(D, 'complete')"
      ],
      "execution_count": null,
      "outputs": []
    },
    {
      "cell_type": "markdown",
      "metadata": {
        "id": "dhLpPVyn5uN6"
      },
      "source": [
        "Essentially, Hierarchical clustering does not require a pre-specified number of clusters. However, in some applications we want a partition of disjoint clusters just as in flat clustering.\n",
        "So you can use a cutting line:\n"
      ]
    },
    {
      "cell_type": "code",
      "metadata": {
        "id": "bf6dKQXf5uN7"
      },
      "source": [
        "from scipy.cluster.hierarchy import fcluster\n",
        "max_d = 3\n",
        "clusters = fcluster(Z, max_d, criterion='distance')\n",
        "clusters"
      ],
      "execution_count": null,
      "outputs": []
    },
    {
      "cell_type": "markdown",
      "metadata": {
        "id": "3aSx6QhF5uN8"
      },
      "source": [
        "Also, you can determine the number of clusters directly:\n"
      ]
    },
    {
      "cell_type": "code",
      "metadata": {
        "id": "ydQRlIuD5uN9"
      },
      "source": [
        "from scipy.cluster.hierarchy import fcluster\n",
        "k = 5\n",
        "clusters = fcluster(Z, k, criterion='maxclust')\n",
        "clusters\n"
      ],
      "execution_count": null,
      "outputs": []
    },
    {
      "cell_type": "markdown",
      "metadata": {
        "id": "Ghk2m_Ne5uN-"
      },
      "source": [
        "Now, plot the dendrogram:\n"
      ]
    },
    {
      "cell_type": "code",
      "metadata": {
        "id": "_yPQzUR65uN_"
      },
      "source": [
        "fig = pylab.figure(figsize=(18,50))\n",
        "def llf(id):\n",
        "    return '[%s %s %s]' % (pdf['manufact'][id], pdf['model'][id], int(float(pdf['type'][id])) )\n",
        "\n",
        "dendro = hierarchy.dendrogram(Z,  leaf_label_func=llf, leaf_rotation=0, leaf_font_size =12, orientation = 'right')"
      ],
      "execution_count": null,
      "outputs": []
    },
    {
      "cell_type": "markdown",
      "metadata": {
        "id": "poTs3KCd5uOA"
      },
      "source": [
        "<h2 id=\"clustering_using_skl\">Clustering using scikit-learn</h2>\n",
        "\n",
        "Let's redo it again, but this time using the scikit-learn package:\n"
      ]
    },
    {
      "cell_type": "code",
      "metadata": {
        "id": "SiJ3KI3M5uOA"
      },
      "source": [
        "from sklearn.metrics.pairwise import euclidean_distances\n",
        "dist_matrix = euclidean_distances(feature_mtx,feature_mtx)\n",
        "print(dist_matrix)"
      ],
      "execution_count": null,
      "outputs": []
    },
    {
      "cell_type": "code",
      "metadata": {
        "id": "SGOp0ZaA5uOB"
      },
      "source": [
        "Z_using_dist_matrix = hierarchy.linkage(dist_matrix, 'complete')"
      ],
      "execution_count": null,
      "outputs": []
    },
    {
      "cell_type": "code",
      "metadata": {
        "id": "PHc9b9qq5uOC"
      },
      "source": [
        "fig = pylab.figure(figsize=(18,50))\n",
        "def llf(id):\n",
        "    return '[%s %s %s]' % (pdf['manufact'][id], pdf['model'][id], int(float(pdf['type'][id])) )\n",
        "\n",
        "dendro = hierarchy.dendrogram(Z_using_dist_matrix,  leaf_label_func=llf, leaf_rotation=0, leaf_font_size =12, orientation = 'right')"
      ],
      "execution_count": null,
      "outputs": []
    },
    {
      "cell_type": "markdown",
      "metadata": {
        "id": "IlVC6uIu5uOD"
      },
      "source": [
        "Now, we can use the 'AgglomerativeClustering' function from scikit-learn library to cluster the dataset. The AgglomerativeClustering performs a hierarchical clustering using a bottom up approach. The linkage criteria determines the metric used for the merge strategy:\n",
        "\n",
        "*   Ward minimizes the sum of squared differences within all clusters. It is a variance-minimizing approach and in this sense is similar to the k-means objective function but tackled with an agglomerative hierarchical approach.\n",
        "*   Maximum or complete linkage minimizes the maximum distance between observations of pairs of clusters.\n",
        "*   Average linkage minimizes the average of the distances between all observations of pairs of clusters.\n"
      ]
    },
    {
      "cell_type": "code",
      "metadata": {
        "id": "oQobCuvl5uOE"
      },
      "source": [
        "agglom = AgglomerativeClustering(n_clusters = 6, linkage = 'complete')\n",
        "agglom.fit(dist_matrix)\n",
        "\n",
        "agglom.labels_"
      ],
      "execution_count": null,
      "outputs": []
    },
    {
      "cell_type": "markdown",
      "metadata": {
        "id": "FJByP0tk5uOG"
      },
      "source": [
        "We can add a new field to our dataframe to show the cluster of each row:\n"
      ]
    },
    {
      "cell_type": "code",
      "metadata": {
        "id": "799LDiq45uOG"
      },
      "source": [
        "pdf['cluster_'] = agglom.labels_\n",
        "pdf.head()"
      ],
      "execution_count": null,
      "outputs": []
    },
    {
      "cell_type": "code",
      "metadata": {
        "id": "8txjsxNz5uOI"
      },
      "source": [
        "import matplotlib.cm as cm\n",
        "n_clusters = max(agglom.labels_)+1\n",
        "colors = cm.rainbow(np.linspace(0, 1, n_clusters))\n",
        "cluster_labels = list(range(0, n_clusters))\n",
        "\n",
        "# Create a figure of size 6 inches by 4 inches.\n",
        "plt.figure(figsize=(16,14))\n",
        "\n",
        "for color, label in zip(colors, cluster_labels):\n",
        "    subset = pdf[pdf.cluster_ == label]\n",
        "    for i in subset.index:\n",
        "            plt.text(subset.horsepow[i], subset.mpg[i],str(subset['model'][i]), rotation=25)\n",
        "    plt.scatter(subset.horsepow, subset.mpg, s= subset.price*10, c=color, label='cluster'+str(label),alpha=0.5)\n",
        "#    plt.scatter(subset.horsepow, subset.mpg)\n",
        "plt.legend()\n",
        "plt.title('Clusters')\n",
        "plt.xlabel('horsepow')\n",
        "plt.ylabel('mpg')"
      ],
      "execution_count": null,
      "outputs": []
    },
    {
      "cell_type": "markdown",
      "metadata": {
        "id": "Jx4GsvwE5uOJ"
      },
      "source": [
        "As you can see, we are seeing the distribution of each cluster using the scatter plot, but it is not very clear where is the centroid of each cluster. Moreover, there are 2 types of vehicles in our dataset, \"truck\" (value of 1 in the type column) and \"car\" (value of 0 in the type column). So, we use them to distinguish the classes, and summarize the cluster. First we count the number of cases in each group:\n"
      ]
    },
    {
      "cell_type": "code",
      "metadata": {
        "id": "me41MLIV5uOL"
      },
      "source": [
        "pdf.groupby(['cluster_','type'])['cluster_'].count()"
      ],
      "execution_count": null,
      "outputs": []
    },
    {
      "cell_type": "markdown",
      "metadata": {
        "id": "ajzcPDcl5uOM"
      },
      "source": [
        "Now we can look at the characteristics of each cluster:\n"
      ]
    },
    {
      "cell_type": "code",
      "metadata": {
        "id": "bo-HbJk95uON"
      },
      "source": [
        "agg_cars = pdf.groupby(['cluster_','type'])['horsepow','engine_s','mpg','price'].mean()\n",
        "agg_cars"
      ],
      "execution_count": null,
      "outputs": []
    },
    {
      "cell_type": "markdown",
      "metadata": {
        "id": "Bi__ZZsg5uON"
      },
      "source": [
        "It is obvious that we have 3 main clusters with the majority of vehicles in those.\n",
        "\n",
        "**Cars**:\n",
        "\n",
        "*   Cluster 1: with almost high mpg, and low in horsepower.\n",
        "\n",
        "*   Cluster 2: with good mpg and horsepower, but higher price than average.\n",
        "\n",
        "*   Cluster 3: with low mpg, high horsepower, highest price.\n",
        "\n",
        "**Trucks**:\n",
        "\n",
        "*   Cluster 1: with almost highest mpg among trucks, and lowest in horsepower and price.\n",
        "*   Cluster 2: with almost low mpg and medium horsepower, but higher price than average.\n",
        "*   Cluster 3: with good mpg and horsepower, low price.\n",
        "\n",
        "Please notice that we did not use **type**  and **price** of cars in the clustering process, but Hierarchical clustering could forge the clusters and discriminate them with quite a high accuracy.\n"
      ]
    },
    {
      "cell_type": "code",
      "metadata": {
        "id": "DrzcupMm5uOO"
      },
      "source": [
        "plt.figure(figsize=(16,10))\n",
        "for color, label in zip(colors, cluster_labels):\n",
        "    subset = agg_cars.loc[(label,),]\n",
        "    for i in subset.index:\n",
        "        plt.text(subset.loc[i][0]+5, subset.loc[i][2], 'type='+str(int(i)) + ', price='+str(int(subset.loc[i][3]))+'k')\n",
        "    plt.scatter(subset.horsepow, subset.mpg, s=subset.price*20, c=color, label='cluster'+str(label))\n",
        "plt.legend()\n",
        "plt.title('Clusters')\n",
        "plt.xlabel('horsepow')\n",
        "plt.ylabel('mpg')\n"
      ],
      "execution_count": null,
      "outputs": []
    }
  ]
}