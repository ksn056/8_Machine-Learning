{
  "nbformat": 4,
  "nbformat_minor": 0,
  "metadata": {
    "kernelspec": {
      "display_name": "Python 3",
      "language": "python",
      "name": "python3"
    },
    "language_info": {
      "codemirror_mode": {
        "name": "ipython",
        "version": 3
      },
      "file_extension": ".py",
      "mimetype": "text/x-python",
      "name": "python",
      "nbconvert_exporter": "python",
      "pygments_lexer": "ipython3",
      "version": "3.7.4"
    },
    "colab": {
      "provenance": []
    }
  },
  "cells": [
    {
      "cell_type": "code",
      "metadata": {
        "id": "yCYph6hu7hAh"
      },
      "source": [
        "import sklearn\n",
        "import numpy as np\n",
        "import matplotlib\n",
        "import matplotlib.pyplot as plt"
      ],
      "execution_count": null,
      "outputs": []
    },
    {
      "cell_type": "code",
      "metadata": {
        "id": "bnvsLqfa7hAl"
      },
      "source": [
        "from sklearn import datasets\n",
        "clf=datasets.load_breast_cancer()\n",
        "x=clf.data  # Samples in iris i.e.150 images\n",
        "y=clf.target"
      ],
      "execution_count": null,
      "outputs": []
    },
    {
      "cell_type": "code",
      "metadata": {
        "id": "I7vhuzig7hAo",
        "colab": {
          "base_uri": "https://localhost:8080/"
        },
        "outputId": "6ebe9cc9-941d-4696-9b4a-84ba2b33fcbe"
      },
      "source": [
        "print(clf.target_names)"
      ],
      "execution_count": null,
      "outputs": [
        {
          "output_type": "stream",
          "name": "stdout",
          "text": [
            "['malignant' 'benign']\n"
          ]
        }
      ]
    },
    {
      "cell_type": "code",
      "metadata": {
        "id": "c_kV9Y727hAs",
        "colab": {
          "base_uri": "https://localhost:8080/"
        },
        "outputId": "8143b4df-7b88-4526-eb64-1548e5e4cf92"
      },
      "source": [
        "clf.data[11:20]"
      ],
      "execution_count": null,
      "outputs": [
        {
          "output_type": "execute_result",
          "data": {
            "text/plain": [
              "array([[1.578e+01, 1.789e+01, 1.036e+02, 7.810e+02, 9.710e-02, 1.292e-01,\n",
              "        9.954e-02, 6.606e-02, 1.842e-01, 6.082e-02, 5.058e-01, 9.849e-01,\n",
              "        3.564e+00, 5.416e+01, 5.771e-03, 4.061e-02, 2.791e-02, 1.282e-02,\n",
              "        2.008e-02, 4.144e-03, 2.042e+01, 2.728e+01, 1.365e+02, 1.299e+03,\n",
              "        1.396e-01, 5.609e-01, 3.965e-01, 1.810e-01, 3.792e-01, 1.048e-01],\n",
              "       [1.917e+01, 2.480e+01, 1.324e+02, 1.123e+03, 9.740e-02, 2.458e-01,\n",
              "        2.065e-01, 1.118e-01, 2.397e-01, 7.800e-02, 9.555e-01, 3.568e+00,\n",
              "        1.107e+01, 1.162e+02, 3.139e-03, 8.297e-02, 8.890e-02, 4.090e-02,\n",
              "        4.484e-02, 1.284e-02, 2.096e+01, 2.994e+01, 1.517e+02, 1.332e+03,\n",
              "        1.037e-01, 3.903e-01, 3.639e-01, 1.767e-01, 3.176e-01, 1.023e-01],\n",
              "       [1.585e+01, 2.395e+01, 1.037e+02, 7.827e+02, 8.401e-02, 1.002e-01,\n",
              "        9.938e-02, 5.364e-02, 1.847e-01, 5.338e-02, 4.033e-01, 1.078e+00,\n",
              "        2.903e+00, 3.658e+01, 9.769e-03, 3.126e-02, 5.051e-02, 1.992e-02,\n",
              "        2.981e-02, 3.002e-03, 1.684e+01, 2.766e+01, 1.120e+02, 8.765e+02,\n",
              "        1.131e-01, 1.924e-01, 2.322e-01, 1.119e-01, 2.809e-01, 6.287e-02],\n",
              "       [1.373e+01, 2.261e+01, 9.360e+01, 5.783e+02, 1.131e-01, 2.293e-01,\n",
              "        2.128e-01, 8.025e-02, 2.069e-01, 7.682e-02, 2.121e-01, 1.169e+00,\n",
              "        2.061e+00, 1.921e+01, 6.429e-03, 5.936e-02, 5.501e-02, 1.628e-02,\n",
              "        1.961e-02, 8.093e-03, 1.503e+01, 3.201e+01, 1.088e+02, 6.977e+02,\n",
              "        1.651e-01, 7.725e-01, 6.943e-01, 2.208e-01, 3.596e-01, 1.431e-01],\n",
              "       [1.454e+01, 2.754e+01, 9.673e+01, 6.588e+02, 1.139e-01, 1.595e-01,\n",
              "        1.639e-01, 7.364e-02, 2.303e-01, 7.077e-02, 3.700e-01, 1.033e+00,\n",
              "        2.879e+00, 3.255e+01, 5.607e-03, 4.240e-02, 4.741e-02, 1.090e-02,\n",
              "        1.857e-02, 5.466e-03, 1.746e+01, 3.713e+01, 1.241e+02, 9.432e+02,\n",
              "        1.678e-01, 6.577e-01, 7.026e-01, 1.712e-01, 4.218e-01, 1.341e-01],\n",
              "       [1.468e+01, 2.013e+01, 9.474e+01, 6.845e+02, 9.867e-02, 7.200e-02,\n",
              "        7.395e-02, 5.259e-02, 1.586e-01, 5.922e-02, 4.727e-01, 1.240e+00,\n",
              "        3.195e+00, 4.540e+01, 5.718e-03, 1.162e-02, 1.998e-02, 1.109e-02,\n",
              "        1.410e-02, 2.085e-03, 1.907e+01, 3.088e+01, 1.234e+02, 1.138e+03,\n",
              "        1.464e-01, 1.871e-01, 2.914e-01, 1.609e-01, 3.029e-01, 8.216e-02],\n",
              "       [1.613e+01, 2.068e+01, 1.081e+02, 7.988e+02, 1.170e-01, 2.022e-01,\n",
              "        1.722e-01, 1.028e-01, 2.164e-01, 7.356e-02, 5.692e-01, 1.073e+00,\n",
              "        3.854e+00, 5.418e+01, 7.026e-03, 2.501e-02, 3.188e-02, 1.297e-02,\n",
              "        1.689e-02, 4.142e-03, 2.096e+01, 3.148e+01, 1.368e+02, 1.315e+03,\n",
              "        1.789e-01, 4.233e-01, 4.784e-01, 2.073e-01, 3.706e-01, 1.142e-01],\n",
              "       [1.981e+01, 2.215e+01, 1.300e+02, 1.260e+03, 9.831e-02, 1.027e-01,\n",
              "        1.479e-01, 9.498e-02, 1.582e-01, 5.395e-02, 7.582e-01, 1.017e+00,\n",
              "        5.865e+00, 1.124e+02, 6.494e-03, 1.893e-02, 3.391e-02, 1.521e-02,\n",
              "        1.356e-02, 1.997e-03, 2.732e+01, 3.088e+01, 1.868e+02, 2.398e+03,\n",
              "        1.512e-01, 3.150e-01, 5.372e-01, 2.388e-01, 2.768e-01, 7.615e-02],\n",
              "       [1.354e+01, 1.436e+01, 8.746e+01, 5.663e+02, 9.779e-02, 8.129e-02,\n",
              "        6.664e-02, 4.781e-02, 1.885e-01, 5.766e-02, 2.699e-01, 7.886e-01,\n",
              "        2.058e+00, 2.356e+01, 8.462e-03, 1.460e-02, 2.387e-02, 1.315e-02,\n",
              "        1.980e-02, 2.300e-03, 1.511e+01, 1.926e+01, 9.970e+01, 7.112e+02,\n",
              "        1.440e-01, 1.773e-01, 2.390e-01, 1.288e-01, 2.977e-01, 7.259e-02]])"
            ]
          },
          "metadata": {},
          "execution_count": 5
        }
      ]
    },
    {
      "cell_type": "markdown",
      "metadata": {
        "id": "WsYPzxMw7hAv"
      },
      "source": [
        "Here 150 images are sliced in 150\n",
        "150 are then split into train and test\n",
        "135 for train\n",
        "15 for test\n",
        "test_size=0.10  10 % test 90 %\n"
      ]
    },
    {
      "cell_type": "code",
      "metadata": {
        "id": "jXvE_aRo7hAx",
        "colab": {
          "base_uri": "https://localhost:8080/"
        },
        "outputId": "dcba9b43-35c0-4c29-c85d-37f6d44f7c57"
      },
      "source": [
        "clf.target[11:20]"
      ],
      "execution_count": null,
      "outputs": [
        {
          "output_type": "execute_result",
          "data": {
            "text/plain": [
              "array([0, 0, 0, 0, 0, 0, 0, 0, 1])"
            ]
          },
          "metadata": {},
          "execution_count": 6
        }
      ]
    },
    {
      "cell_type": "code",
      "metadata": {
        "id": "SiqFmYcN7hA0"
      },
      "source": [
        "from sklearn.model_selection import train_test_split\n",
        "x_train, x_test, y_train, y_test = train_test_split(x, y, test_size=0.300, random_state=33)"
      ],
      "execution_count": null,
      "outputs": []
    },
    {
      "cell_type": "code",
      "metadata": {
        "id": "D8wQI0Zk7hA3",
        "colab": {
          "base_uri": "https://localhost:8080/"
        },
        "outputId": "0e23563e-ce8c-4d52-d7d3-8dfcedfdea2d"
      },
      "source": [
        "# create the linear model classifier\n",
        "\n",
        "from sklearn.svm import SVC\n",
        "# fit the model\n",
        "abc=SVC(kernel='rbf')\n",
        "abc.fit(x_train,y_train)"
      ],
      "execution_count": null,
      "outputs": [
        {
          "output_type": "execute_result",
          "data": {
            "text/plain": [
              "SVC(C=1.0, break_ties=False, cache_size=200, class_weight=None, coef0=0.0,\n",
              "    decision_function_shape='ovr', degree=3, gamma='scale', kernel='rbf',\n",
              "    max_iter=-1, probability=False, random_state=None, shrinking=True,\n",
              "    tol=0.001, verbose=False)"
            ]
          },
          "metadata": {},
          "execution_count": 8
        }
      ]
    },
    {
      "cell_type": "code",
      "metadata": {
        "id": "5vkfTMtA7hA7"
      },
      "source": [
        "y_pred = abc.predict(x_test)"
      ],
      "execution_count": null,
      "outputs": []
    },
    {
      "cell_type": "code",
      "metadata": {
        "id": "fK16exK57hA9",
        "colab": {
          "base_uri": "https://localhost:8080/"
        },
        "outputId": "672a9994-4e6a-46af-e074-e2f1c6666e62"
      },
      "source": [
        "print(x_test)"
      ],
      "execution_count": null,
      "outputs": [
        {
          "output_type": "stream",
          "name": "stdout",
          "text": [
            "[[1.861e+01 2.025e+01 1.221e+02 ... 1.490e-01 2.341e-01 7.421e-02]\n",
            " [1.143e+01 1.731e+01 7.366e+01 ... 6.402e-02 2.584e-01 8.096e-02]\n",
            " [1.116e+01 2.141e+01 7.095e+01 ... 4.306e-02 2.976e-01 7.123e-02]\n",
            " ...\n",
            " [1.320e+01 1.582e+01 8.407e+01 ... 2.500e-02 2.651e-01 8.385e-02]\n",
            " [1.496e+01 1.910e+01 9.703e+01 ... 1.489e-01 2.962e-01 8.472e-02]\n",
            " [2.137e+01 1.510e+01 1.413e+02 ... 1.966e-01 2.730e-01 8.666e-02]]\n"
          ]
        }
      ]
    },
    {
      "cell_type": "code",
      "metadata": {
        "id": "hdnG8vx17hA_",
        "colab": {
          "base_uri": "https://localhost:8080/"
        },
        "outputId": "b2faf619-cfe8-440a-9e38-86989ce38d3e"
      },
      "source": [
        "print(y_pred)"
      ],
      "execution_count": null,
      "outputs": [
        {
          "output_type": "stream",
          "name": "stdout",
          "text": [
            "[0 1 1 1 1 0 1 1 1 1 1 1 1 1 1 0 1 1 1 1 1 1 1 1 0 0 1 1 1 1 1 1 1 1 1 0 0\n",
            " 1 1 1 1 1 1 1 1 1 0 1 1 1 1 0 1 1 1 1 1 0 1 1 0 0 1 0 1 1 1 1 1 0 1 1 1 0\n",
            " 0 1 0 0 0 1 0 1 1 1 1 0 1 0 0 1 1 0 0 1 1 0 1 0 1 1 0 1 1 1 1 0 1 0 1 0 1\n",
            " 0 1 0 1 1 0 1 1 0 1 0 1 1 0 0 1 1 0 1 1 1 1 1 1 0 1 0 1 1 1 0 0 0 1 1 1 0\n",
            " 1 1 0 1 1 0 1 1 0 0 1 1 1 0 1 1 1 1 0 0 1 1 0]\n"
          ]
        }
      ]
    },
    {
      "cell_type": "code",
      "metadata": {
        "id": "sZ3flrAs7hBB",
        "colab": {
          "base_uri": "https://localhost:8080/"
        },
        "outputId": "6a5d0ac8-c3f1-4da1-f89c-7ae69891fdec"
      },
      "source": [
        "print(x_train.shape)\n",
        "print(x_test.shape)\n",
        "print(x_train.shape)\n",
        "print(x_test.shape)"
      ],
      "execution_count": null,
      "outputs": [
        {
          "output_type": "stream",
          "name": "stdout",
          "text": [
            "(398, 30)\n",
            "(171, 30)\n",
            "(398, 30)\n",
            "(171, 30)\n"
          ]
        }
      ]
    },
    {
      "cell_type": "code",
      "metadata": {
        "id": "mo43vgdO7hBD",
        "colab": {
          "base_uri": "https://localhost:8080/"
        },
        "outputId": "6249da7a-3376-4bb6-f67b-a281b4f93319"
      },
      "source": [
        "y_pred[20]\n",
        "\n",
        "if (y_pred[20]==0):\n",
        "    print(clf.target_names[0])\n",
        "else:\n",
        "    print(clf.target_names[1])\n",
        "\n",
        ""
      ],
      "execution_count": null,
      "outputs": [
        {
          "output_type": "stream",
          "name": "stdout",
          "text": [
            "benign\n"
          ]
        }
      ]
    },
    {
      "cell_type": "code",
      "metadata": {
        "id": "YtjCwIleFbsb"
      },
      "source": [],
      "execution_count": null,
      "outputs": []
    },
    {
      "cell_type": "code",
      "metadata": {
        "id": "TV-fQZYS7hBF",
        "colab": {
          "base_uri": "https://localhost:8080/"
        },
        "outputId": "2b1d64ad-00ac-4b07-ddb7-8c9142f42daa"
      },
      "source": [
        "# Training Accuracy\n",
        "from sklearn import metrics\n",
        "y_train_pred = abc.predict(x_train)\n",
        "print(metrics.accuracy_score(y_train, y_train_pred))"
      ],
      "execution_count": null,
      "outputs": [
        {
          "output_type": "stream",
          "name": "stdout",
          "text": [
            "0.9246231155778895\n"
          ]
        }
      ]
    },
    {
      "cell_type": "code",
      "metadata": {
        "id": "Pl6uS-n47hBH",
        "colab": {
          "base_uri": "https://localhost:8080/"
        },
        "outputId": "0409e535-bd5b-440b-96ad-f923678a61f7"
      },
      "source": [
        "#Testing Accuracy\n",
        "y_pred = abc.predict(x_test)\n",
        "print (metrics.accuracy_score(y_test, y_pred))"
      ],
      "execution_count": null,
      "outputs": [
        {
          "output_type": "stream",
          "name": "stdout",
          "text": [
            "0.8888888888888888\n"
          ]
        }
      ]
    },
    {
      "cell_type": "code",
      "metadata": {
        "id": "o4e2GsJd7hBJ"
      },
      "source": [
        "predicted = abc.predict(x_test[0:10])\n",
        "expected = y_test[0:10]"
      ],
      "execution_count": null,
      "outputs": []
    },
    {
      "cell_type": "code",
      "metadata": {
        "id": "gqjoLVrT7hBK",
        "colab": {
          "base_uri": "https://localhost:8080/"
        },
        "outputId": "93797b9e-aaa1-479f-f3fe-8541f48392b7"
      },
      "source": [
        "print(predicted)"
      ],
      "execution_count": null,
      "outputs": [
        {
          "output_type": "stream",
          "name": "stdout",
          "text": [
            "[0 1 1 1 1 0 1 1 1 1]\n"
          ]
        }
      ]
    },
    {
      "cell_type": "code",
      "metadata": {
        "id": "0iBQL--C7hBL",
        "colab": {
          "base_uri": "https://localhost:8080/"
        },
        "outputId": "216b842a-e83f-4669-8af9-cbea7d5c5d9a"
      },
      "source": [
        "print(expected)"
      ],
      "execution_count": null,
      "outputs": [
        {
          "output_type": "stream",
          "name": "stdout",
          "text": [
            "[0 1 1 1 1 1 1 1 1 1]\n"
          ]
        }
      ]
    },
    {
      "cell_type": "code",
      "metadata": {
        "id": "c15t2YTJ7hBN",
        "colab": {
          "base_uri": "https://localhost:8080/"
        },
        "outputId": "b19a2ba9-6374-438e-e84f-ab1a3bedf704"
      },
      "source": [
        "# Training Accuracy\n",
        "from sklearn import metrics\n",
        "y_train_pred = abc.predict(x_train)\n",
        "print(metrics.accuracy_score(y_train, y_train_pred))"
      ],
      "execution_count": null,
      "outputs": [
        {
          "output_type": "stream",
          "name": "stdout",
          "text": [
            "0.9246231155778895\n"
          ]
        }
      ]
    },
    {
      "cell_type": "code",
      "metadata": {
        "id": "3jTujDnl7hBP",
        "colab": {
          "base_uri": "https://localhost:8080/"
        },
        "outputId": "88dfac84-6e28-4726-d3e1-7fecd7e4d2b5"
      },
      "source": [
        "#Testing Accuracy\n",
        "y_pred = abc.predict(x_test)\n",
        "print (metrics.accuracy_score(y_test, y_pred))"
      ],
      "execution_count": null,
      "outputs": [
        {
          "output_type": "stream",
          "name": "stdout",
          "text": [
            "0.8888888888888888\n"
          ]
        }
      ]
    },
    {
      "cell_type": "code",
      "metadata": {
        "colab": {
          "base_uri": "https://localhost:8080/"
        },
        "id": "ob4h12sVFc_q",
        "outputId": "b603f4e7-ed8d-4bb0-e52c-7359eed18b60"
      },
      "source": [
        "# Precision\n",
        "print (metrics.precision_score(y_test, y_pred))\n"
      ],
      "execution_count": null,
      "outputs": [
        {
          "output_type": "stream",
          "name": "stdout",
          "text": [
            "0.864406779661017\n"
          ]
        }
      ]
    },
    {
      "cell_type": "code",
      "metadata": {
        "colab": {
          "base_uri": "https://localhost:8080/"
        },
        "id": "MM4bkbGKFofv",
        "outputId": "63949167-c494-4644-b15a-066f7eff8163"
      },
      "source": [
        "# Recall\n",
        "print (metrics.recall_score(y_test, y_pred))"
      ],
      "execution_count": null,
      "outputs": [
        {
          "output_type": "stream",
          "name": "stdout",
          "text": [
            "0.9714285714285714\n"
          ]
        }
      ]
    },
    {
      "cell_type": "code",
      "metadata": {
        "id": "_IRsGaplFwNI"
      },
      "source": [],
      "execution_count": null,
      "outputs": []
    }
  ]
}