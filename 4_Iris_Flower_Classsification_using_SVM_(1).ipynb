{
  "nbformat": 4,
  "nbformat_minor": 0,
  "metadata": {
    "kernelspec": {
      "display_name": "Python 3",
      "language": "python",
      "name": "python3"
    },
    "language_info": {
      "codemirror_mode": {
        "name": "ipython",
        "version": 3
      },
      "file_extension": ".py",
      "mimetype": "text/x-python",
      "name": "python",
      "nbconvert_exporter": "python",
      "pygments_lexer": "ipython3",
      "version": "3.7.4"
    },
    "colab": {
      "provenance": []
    }
  },
  "cells": [
    {
      "cell_type": "markdown",
      "metadata": {
        "id": "5A7vM0CZ7hAY"
      },
      "source": [
        "## Overview\n",
        "Features in the Iris dataset:\n",
        "– sepal length (cm)\n",
        "– sepal width (cm)\n",
        "– petal length (cm)\n",
        "– petal width (cm)\n",
        "• Target classes to predict:\n",
        "– Setosa\n",
        "– Versicolour\n",
        "– Virginica"
      ]
    },
    {
      "cell_type": "code",
      "metadata": {
        "id": "yCYph6hu7hAh"
      },
      "source": [
        "import sklearn\n",
        "import numpy as np\n",
        "import matplotlib\n",
        "import matplotlib.pyplot as plt"
      ],
      "execution_count": null,
      "outputs": []
    },
    {
      "cell_type": "code",
      "metadata": {
        "id": "bnvsLqfa7hAl"
      },
      "source": [
        "from sklearn import datasets\n",
        "abc=datasets.load_iris()\n",
        "x=abc.data  # Samples in iris i.e.150 images\n",
        "y=abc.target"
      ],
      "execution_count": null,
      "outputs": []
    },
    {
      "cell_type": "code",
      "metadata": {
        "id": "I7vhuzig7hAo",
        "colab": {
          "base_uri": "https://localhost:8080/"
        },
        "outputId": "7f5f0530-0a98-453f-9dec-b1f3f0ce92de"
      },
      "source": [
        "print(y)"
      ],
      "execution_count": null,
      "outputs": [
        {
          "output_type": "stream",
          "name": "stdout",
          "text": [
            "[0 0 0 0 0 0 0 0 0 0 0 0 0 0 0 0 0 0 0 0 0 0 0 0 0 0 0 0 0 0 0 0 0 0 0 0 0\n",
            " 0 0 0 0 0 0 0 0 0 0 0 0 0 1 1 1 1 1 1 1 1 1 1 1 1 1 1 1 1 1 1 1 1 1 1 1 1\n",
            " 1 1 1 1 1 1 1 1 1 1 1 1 1 1 1 1 1 1 1 1 1 1 1 1 1 1 2 2 2 2 2 2 2 2 2 2 2\n",
            " 2 2 2 2 2 2 2 2 2 2 2 2 2 2 2 2 2 2 2 2 2 2 2 2 2 2 2 2 2 2 2 2 2 2 2 2 2\n",
            " 2 2]\n"
          ]
        }
      ]
    },
    {
      "cell_type": "code",
      "metadata": {
        "id": "c_kV9Y727hAs",
        "colab": {
          "base_uri": "https://localhost:8080/"
        },
        "outputId": "7b8e22ad-fef6-4e7e-d3fa-e002ed1d5aa0"
      },
      "source": [
        "x[51:60]"
      ],
      "execution_count": null,
      "outputs": [
        {
          "output_type": "execute_result",
          "data": {
            "text/plain": [
              "array([[6.4, 3.2, 4.5, 1.5],\n",
              "       [6.9, 3.1, 4.9, 1.5],\n",
              "       [5.5, 2.3, 4. , 1.3],\n",
              "       [6.5, 2.8, 4.6, 1.5],\n",
              "       [5.7, 2.8, 4.5, 1.3],\n",
              "       [6.3, 3.3, 4.7, 1.6],\n",
              "       [4.9, 2.4, 3.3, 1. ],\n",
              "       [6.6, 2.9, 4.6, 1.3],\n",
              "       [5.2, 2.7, 3.9, 1.4]])"
            ]
          },
          "metadata": {},
          "execution_count": 6
        }
      ]
    },
    {
      "cell_type": "markdown",
      "metadata": {
        "id": "WsYPzxMw7hAv"
      },
      "source": [
        "Here 150 images are sliced in 150\n",
        "150 are then split into train and test\n",
        "135 for train\n",
        "15 for test\n",
        "test_size=0.10  10 % test 90 %\n"
      ]
    },
    {
      "cell_type": "code",
      "metadata": {
        "id": "jXvE_aRo7hAx",
        "colab": {
          "base_uri": "https://localhost:8080/"
        },
        "outputId": "d133a6a5-209b-4e44-a500-0f4a8387d78e"
      },
      "source": [
        "abc.target[51:60]"
      ],
      "execution_count": null,
      "outputs": [
        {
          "output_type": "execute_result",
          "data": {
            "text/plain": [
              "array([1, 1, 1, 1, 1, 1, 1, 1, 1])"
            ]
          },
          "metadata": {},
          "execution_count": 7
        }
      ]
    },
    {
      "cell_type": "code",
      "metadata": {
        "id": "SiqFmYcN7hA0"
      },
      "source": [
        "from sklearn.model_selection import train_test_split\n",
        "x_train, x_test, y_train, y_test = train_test_split(x, y, test_size=0.300, random_state=3)"
      ],
      "execution_count": null,
      "outputs": []
    },
    {
      "cell_type": "code",
      "metadata": {
        "id": "D8wQI0Zk7hA3",
        "colab": {
          "base_uri": "https://localhost:8080/"
        },
        "outputId": "79b1564f-f979-4ab8-db85-80a998f92d8b"
      },
      "source": [
        "# create the linear model classifier\n",
        "\n",
        "from sklearn.svm import SVC\n",
        "# fit the model\n",
        "clf=SVC(kernel='rbf')\n",
        "clf.fit(x_train,y_train)"
      ],
      "execution_count": null,
      "outputs": [
        {
          "output_type": "execute_result",
          "data": {
            "text/plain": [
              "SVC()"
            ]
          },
          "metadata": {},
          "execution_count": 10
        }
      ]
    },
    {
      "cell_type": "code",
      "metadata": {
        "id": "ETc5xoy8Ak5h"
      },
      "source": [],
      "execution_count": null,
      "outputs": []
    },
    {
      "cell_type": "code",
      "metadata": {
        "id": "5vkfTMtA7hA7"
      },
      "source": [
        "y_pred = clf.predict(x_test)"
      ],
      "execution_count": null,
      "outputs": []
    },
    {
      "cell_type": "code",
      "metadata": {
        "id": "fK16exK57hA9",
        "colab": {
          "base_uri": "https://localhost:8080/"
        },
        "outputId": "d430e475-f4fa-412d-b273-5688c659818b"
      },
      "source": [
        "print(x_test)"
      ],
      "execution_count": null,
      "outputs": [
        {
          "output_type": "stream",
          "name": "stdout",
          "text": [
            "[[4.6 3.2 1.4 0.2]\n",
            " [4.6 3.1 1.5 0.2]\n",
            " [5.4 3.4 1.5 0.4]\n",
            " [5.  3.  1.6 0.2]\n",
            " [5.7 4.4 1.5 0.4]\n",
            " [7.7 2.6 6.9 2.3]\n",
            " [5.5 2.5 4.  1.3]\n",
            " [4.6 3.4 1.4 0.3]\n",
            " [6.3 2.9 5.6 1.8]\n",
            " [6.7 3.1 4.4 1.4]\n",
            " [5.6 3.  4.1 1.3]\n",
            " [4.4 3.  1.3 0.2]\n",
            " [5.8 2.6 4.  1.2]\n",
            " [5.5 2.3 4.  1.3]\n",
            " [6.7 3.1 5.6 2.4]\n",
            " [5.  3.5 1.3 0.3]\n",
            " [6.3 2.5 4.9 1.5]\n",
            " [7.7 3.  6.1 2.3]\n",
            " [5.7 2.5 5.  2. ]\n",
            " [4.4 3.2 1.3 0.2]\n",
            " [6.2 2.8 4.8 1.8]\n",
            " [6.8 3.  5.5 2.1]\n",
            " [6.9 3.1 5.1 2.3]\n",
            " [6.8 2.8 4.8 1.4]\n",
            " [5.4 3.9 1.7 0.4]\n",
            " [7.2 3.6 6.1 2.5]\n",
            " [6.1 2.6 5.6 1.4]\n",
            " [5.8 2.7 4.1 1. ]\n",
            " [4.9 2.4 3.3 1. ]\n",
            " [6.7 3.1 4.7 1.5]\n",
            " [5.8 4.  1.2 0.2]\n",
            " [4.8 3.4 1.9 0.2]\n",
            " [6.9 3.1 5.4 2.1]\n",
            " [6.6 2.9 4.6 1.3]\n",
            " [4.4 2.9 1.4 0.2]\n",
            " [5.2 3.5 1.5 0.2]\n",
            " [6.7 3.  5.  1.7]\n",
            " [4.5 2.3 1.3 0.3]\n",
            " [6.4 2.7 5.3 1.9]\n",
            " [6.2 2.2 4.5 1.5]\n",
            " [6.4 2.8 5.6 2.1]\n",
            " [5.8 2.7 3.9 1.2]\n",
            " [4.6 3.6 1.  0.2]\n",
            " [5.1 3.5 1.4 0.3]\n",
            " [6.1 3.  4.9 1.8]]\n"
          ]
        }
      ]
    },
    {
      "cell_type": "code",
      "metadata": {
        "id": "hdnG8vx17hA_",
        "colab": {
          "base_uri": "https://localhost:8080/"
        },
        "outputId": "f2e26035-7990-465e-a6d7-63856ad73907"
      },
      "source": [
        "print(y_pred)"
      ],
      "execution_count": null,
      "outputs": [
        {
          "output_type": "stream",
          "name": "stdout",
          "text": [
            "[0 0 0 0 0 2 1 0 2 1 1 0 1 1 2 0 1 2 2 0 2 2 2 1 0 2 2 1 1 1 0 0 2 1 0 0 2\n",
            " 0 2 1 2 1 0 0 2]\n"
          ]
        }
      ]
    },
    {
      "cell_type": "code",
      "metadata": {
        "id": "sZ3flrAs7hBB",
        "colab": {
          "base_uri": "https://localhost:8080/"
        },
        "outputId": "b839645a-39e2-4203-bedf-be17c0b07b16"
      },
      "source": [
        "print(x_train.shape)\n",
        "print(x_test.shape)\n",
        "print(x_train.shape)\n",
        "print(y_test.shape)"
      ],
      "execution_count": null,
      "outputs": [
        {
          "output_type": "stream",
          "name": "stdout",
          "text": [
            "(105, 4)\n",
            "(45, 4)\n",
            "(105, 4)\n",
            "(45,)\n"
          ]
        }
      ]
    },
    {
      "cell_type": "code",
      "metadata": {
        "colab": {
          "base_uri": "https://localhost:8080/"
        },
        "id": "_TDms89VKdpd",
        "outputId": "a5f90ea2-d9eb-41f5-d58c-168ac7f36580"
      },
      "source": [
        "y_test[0:5]"
      ],
      "execution_count": null,
      "outputs": [
        {
          "output_type": "execute_result",
          "data": {
            "text/plain": [
              "array([0, 0, 0, 0, 0])"
            ]
          },
          "metadata": {},
          "execution_count": 15
        }
      ]
    },
    {
      "cell_type": "code",
      "metadata": {
        "colab": {
          "base_uri": "https://localhost:8080/"
        },
        "id": "x79noz3nKmPF",
        "outputId": "f61f456a-41d5-450f-fcbb-5cd2f1c659dd"
      },
      "source": [
        "y_pred[0:5]"
      ],
      "execution_count": null,
      "outputs": [
        {
          "output_type": "execute_result",
          "data": {
            "text/plain": [
              "array([0, 0, 0, 0, 0])"
            ]
          },
          "metadata": {},
          "execution_count": 16
        }
      ]
    },
    {
      "cell_type": "code",
      "metadata": {
        "id": "mo43vgdO7hBD",
        "colab": {
          "base_uri": "https://localhost:8080/"
        },
        "outputId": "c8e416ca-0e03-4859-d172-414a32ee46eb"
      },
      "source": [
        "y_pred[20]\n",
        "\n",
        "if (y_pred[20]==0):\n",
        "    print(abc.target_names[0])\n",
        "elif(y_pred[20]==1):\n",
        "    print(abc.target_names[1])\n",
        "else:\n",
        "    print(abc.target_names[2])\n",
        ""
      ],
      "execution_count": null,
      "outputs": [
        {
          "output_type": "stream",
          "name": "stdout",
          "text": [
            "virginica\n"
          ]
        }
      ]
    },
    {
      "cell_type": "code",
      "metadata": {
        "colab": {
          "base_uri": "https://localhost:8080/"
        },
        "id": "uBBJngD8Bf-e",
        "outputId": "ca25965d-d502-43d8-a0ba-6b61674ffd98"
      },
      "source": [
        "y_test[20]"
      ],
      "execution_count": null,
      "outputs": [
        {
          "output_type": "execute_result",
          "data": {
            "text/plain": [
              "2"
            ]
          },
          "metadata": {},
          "execution_count": 18
        }
      ]
    },
    {
      "cell_type": "code",
      "metadata": {
        "colab": {
          "base_uri": "https://localhost:8080/"
        },
        "id": "HKMc8cZmK3mR",
        "outputId": "f00735b6-5610-4b40-88cf-e7c144fe65f2"
      },
      "source": [
        "y_pred[20]"
      ],
      "execution_count": null,
      "outputs": [
        {
          "output_type": "execute_result",
          "data": {
            "text/plain": [
              "2"
            ]
          },
          "metadata": {},
          "execution_count": 19
        }
      ]
    },
    {
      "cell_type": "code",
      "metadata": {
        "id": "TV-fQZYS7hBF",
        "colab": {
          "base_uri": "https://localhost:8080/"
        },
        "outputId": "de887f83-7fc1-4f34-d22a-2be790268f93"
      },
      "source": [
        "# Training Accuracy\n",
        "from sklearn import metrics\n",
        "y_train_pred = clf.predict(x_train)\n",
        "print(metrics.accuracy_score(y_train, y_train_pred))"
      ],
      "execution_count": null,
      "outputs": [
        {
          "output_type": "stream",
          "name": "stdout",
          "text": [
            "0.9523809523809523\n"
          ]
        }
      ]
    },
    {
      "cell_type": "code",
      "metadata": {
        "id": "Pl6uS-n47hBH",
        "colab": {
          "base_uri": "https://localhost:8080/"
        },
        "outputId": "74e27f0e-3e66-4d5f-98cf-3ee727d4986b"
      },
      "source": [
        "#Testing Accuracy\n",
        "y_pred = clf.predict(x_test)\n",
        "print (metrics.accuracy_score(y_test, y_pred))"
      ],
      "execution_count": null,
      "outputs": [
        {
          "output_type": "stream",
          "name": "stdout",
          "text": [
            "0.9333333333333333\n"
          ]
        }
      ]
    },
    {
      "cell_type": "code",
      "metadata": {
        "id": "o4e2GsJd7hBJ"
      },
      "source": [
        "predicted = clf.predict(x_test[0:10])\n",
        "expected = y_test[0:10]"
      ],
      "execution_count": null,
      "outputs": []
    },
    {
      "cell_type": "code",
      "metadata": {
        "id": "gqjoLVrT7hBK",
        "colab": {
          "base_uri": "https://localhost:8080/"
        },
        "outputId": "c715ea5f-9ae0-4ce7-83ce-84d168f7f763"
      },
      "source": [
        "print(predicted)"
      ],
      "execution_count": null,
      "outputs": [
        {
          "output_type": "stream",
          "name": "stdout",
          "text": [
            "[1 1 0 1 2 2 0 0 2 2]\n"
          ]
        }
      ]
    },
    {
      "cell_type": "code",
      "metadata": {
        "id": "0iBQL--C7hBL",
        "colab": {
          "base_uri": "https://localhost:8080/"
        },
        "outputId": "0f9872e0-d4a1-4d7e-a0f9-0feceb20bbab"
      },
      "source": [
        "print(expected)"
      ],
      "execution_count": null,
      "outputs": [
        {
          "output_type": "stream",
          "name": "stdout",
          "text": [
            "[1 1 0 1 2 2 0 0 2 2]\n"
          ]
        }
      ]
    },
    {
      "cell_type": "code",
      "metadata": {
        "id": "c15t2YTJ7hBN",
        "colab": {
          "base_uri": "https://localhost:8080/"
        },
        "outputId": "8de7a3e1-8474-416c-f715-fee30b80321c"
      },
      "source": [
        "# Training Accuracy\n",
        "from sklearn import metrics\n",
        "y_train_pred = clf.predict(x_train)\n",
        "print(metrics.accuracy_score(y_train, y_train_pred))"
      ],
      "execution_count": null,
      "outputs": [
        {
          "output_type": "stream",
          "name": "stdout",
          "text": [
            "0.9523809523809523\n"
          ]
        }
      ]
    },
    {
      "cell_type": "code",
      "metadata": {
        "id": "3jTujDnl7hBP",
        "colab": {
          "base_uri": "https://localhost:8080/"
        },
        "outputId": "78273de5-baed-4e97-dc48-98761cbe5d98"
      },
      "source": [
        "#Testing Accuracy\n",
        "y_pred = clf.predict(x_test)\n",
        "print (metrics.accuracy_score(y_test, y_pred))"
      ],
      "execution_count": null,
      "outputs": [
        {
          "output_type": "stream",
          "name": "stdout",
          "text": [
            "0.9333333333333333\n"
          ]
        }
      ]
    }
  ]
}