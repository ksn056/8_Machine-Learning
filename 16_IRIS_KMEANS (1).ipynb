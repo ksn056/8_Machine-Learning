{
  "cells": [
    {
      "cell_type": "code",
      "execution_count": null,
      "metadata": {
        "colab": {
          "background_save": true
        },
        "id": "qhrBp_sW8N2t"
      },
      "outputs": [],
      "source": [
        "from google.colab import drive\n",
        "drive.mount('/content/drive')"
      ]
    },
    {
      "cell_type": "code",
      "execution_count": null,
      "metadata": {
        "id": "vtN-Lzf1vDO4"
      },
      "outputs": [],
      "source": [
        "path=\"/content/drive/MyDrive/Dataset/Iris_KMEANS.csv\""
      ]
    },
    {
      "cell_type": "code",
      "execution_count": null,
      "metadata": {
        "id": "82bXWQWC-zCw"
      },
      "outputs": [],
      "source": [
        "import pandas as pd"
      ]
    },
    {
      "cell_type": "code",
      "execution_count": null,
      "metadata": {
        "id": "-Hmj0slN-2kB"
      },
      "outputs": [],
      "source": [
        "df=pd.read_csv(path)"
      ]
    },
    {
      "cell_type": "code",
      "execution_count": null,
      "metadata": {
        "id": "0eTI_FlT-9xk"
      },
      "outputs": [],
      "source": [
        "df.head()"
      ]
    },
    {
      "cell_type": "code",
      "execution_count": null,
      "metadata": {
        "id": "w_lmQE3K-_7p"
      },
      "outputs": [],
      "source": [
        "df.info()"
      ]
    },
    {
      "cell_type": "code",
      "execution_count": null,
      "metadata": {
        "id": "4rq-1Nd9_Wz6"
      },
      "outputs": [],
      "source": [
        "df.describe()"
      ]
    },
    {
      "cell_type": "code",
      "execution_count": null,
      "metadata": {
        "id": "puILEMeH_eGC"
      },
      "outputs": [],
      "source": [
        "df[\"SepalLengthCm\"].head()"
      ]
    },
    {
      "cell_type": "code",
      "execution_count": null,
      "metadata": {
        "id": "wyFRZbIj_o2Q"
      },
      "outputs": [],
      "source": [
        "df[0:5]"
      ]
    },
    {
      "cell_type": "code",
      "execution_count": null,
      "metadata": {
        "id": "_FBtCEfcAY5Q"
      },
      "outputs": [],
      "source": [
        "df[51:56]"
      ]
    },
    {
      "cell_type": "code",
      "execution_count": null,
      "metadata": {
        "id": "R7SMtrm4AgR4"
      },
      "outputs": [],
      "source": [
        "df[101:106]"
      ]
    },
    {
      "cell_type": "code",
      "execution_count": null,
      "metadata": {
        "id": "3QmA2_0KAu_M"
      },
      "outputs": [],
      "source": [
        "import matplotlib.pyplot as plt\n",
        "import seaborn as sns"
      ]
    },
    {
      "cell_type": "code",
      "execution_count": null,
      "metadata": {
        "id": "nf_YemmbBWIB"
      },
      "outputs": [],
      "source": [
        "sns.scatterplot(x=df[\"SepalLengthCm\"],\n",
        "            y=df[\"PetalLengthCm\"],\n",
        "            s=120)"
      ]
    },
    {
      "cell_type": "code",
      "execution_count": null,
      "metadata": {
        "id": "BFRUnf52CaUv"
      },
      "outputs": [],
      "source": [
        "sns.scatterplot(x=df[\"SepalWidthCm\"],\n",
        "            y=df[\"PetalWidthCm\"],\n",
        "            s=80)"
      ]
    },
    {
      "cell_type": "code",
      "execution_count": null,
      "metadata": {
        "id": "S34DKBznDLH6"
      },
      "outputs": [],
      "source": [
        "plt.hist(df['SepalWidthCm']);"
      ]
    },
    {
      "cell_type": "code",
      "execution_count": null,
      "metadata": {
        "id": "kzD0YcD4DhMR"
      },
      "outputs": [],
      "source": [
        "sns.barplot(x=df[\"SepalLengthCm\"])"
      ]
    },
    {
      "cell_type": "code",
      "execution_count": null,
      "metadata": {
        "id": "hr0B27xLECYm"
      },
      "outputs": [],
      "source": [
        "sns.barplot(x=df[\"SepalWidthCm\"])"
      ]
    },
    {
      "cell_type": "code",
      "execution_count": null,
      "metadata": {
        "id": "07gIVOVKEXoE"
      },
      "outputs": [],
      "source": [
        "sns.barplot(x=df[\"PetalWidthCm\"])"
      ]
    },
    {
      "cell_type": "code",
      "execution_count": null,
      "metadata": {
        "id": "25cUM8BiEd16"
      },
      "outputs": [],
      "source": [
        "df.head()"
      ]
    },
    {
      "cell_type": "code",
      "execution_count": null,
      "metadata": {
        "id": "8sOsk-v0E6P8"
      },
      "outputs": [],
      "source": [
        "df.shape"
      ]
    },
    {
      "cell_type": "code",
      "execution_count": null,
      "metadata": {
        "id": "Ib1iJTFJE-P2"
      },
      "outputs": [],
      "source": [
        "df[0:1]"
      ]
    },
    {
      "cell_type": "code",
      "execution_count": null,
      "metadata": {
        "id": "a9vg1mWfFEg0"
      },
      "outputs": [],
      "source": [
        "# Divide data in Train ad test"
      ]
    },
    {
      "cell_type": "code",
      "execution_count": null,
      "metadata": {
        "id": "27LxQ35fF4y1"
      },
      "outputs": [],
      "source": [
        "#Feature\n",
        "X=df[[\"SepalLengthCm\",\"SepalWidthCm\",\"PetalLengthCm\",\"PetalWidthCm\"]]\n",
        "print(X.head())\n",
        "print(X.shape)"
      ]
    },
    {
      "cell_type": "code",
      "execution_count": null,
      "metadata": {
        "id": "indie-pioneer"
      },
      "outputs": [],
      "source": [
        "from sklearn.cluster import KMeans"
      ]
    },
    {
      "cell_type": "code",
      "execution_count": null,
      "metadata": {
        "id": "working-reaction"
      },
      "outputs": [],
      "source": [
        "model = KMeans(n_clusters=3, random_state=42)"
      ]
    },
    {
      "cell_type": "code",
      "execution_count": null,
      "metadata": {
        "id": "Zfxx7uEUBxJL"
      },
      "outputs": [],
      "source": [
        "model=model.fit(X)"
      ]
    },
    {
      "cell_type": "code",
      "execution_count": null,
      "metadata": {
        "id": "Fya6oEMrB9Vp"
      },
      "outputs": [],
      "source": [
        "model.cluster_centers_"
      ]
    },
    {
      "cell_type": "code",
      "execution_count": null,
      "metadata": {
        "id": "4ECO2FtvzrfR"
      },
      "outputs": [],
      "source": [
        "df[0:2]"
      ]
    },
    {
      "cell_type": "code",
      "execution_count": null,
      "metadata": {
        "id": "tHbmaUJEz800"
      },
      "outputs": [],
      "source": [
        "df[51:53]"
      ]
    },
    {
      "cell_type": "code",
      "execution_count": null,
      "metadata": {
        "id": "e9uj9X4Q0JjF"
      },
      "outputs": [],
      "source": [
        "df[101:103]"
      ]
    },
    {
      "cell_type": "code",
      "execution_count": null,
      "metadata": {
        "id": "naked-virgin"
      },
      "outputs": [],
      "source": [
        "y_preds = model.predict(X)\n",
        "y_preds"
      ]
    },
    {
      "cell_type": "code",
      "execution_count": null,
      "metadata": {
        "id": "hB-QKUYO0eJ1"
      },
      "outputs": [],
      "source": [
        "y_preds[0:2]"
      ]
    },
    {
      "cell_type": "code",
      "execution_count": null,
      "metadata": {
        "id": "q7jY22Lw0otP"
      },
      "outputs": [],
      "source": [
        "df[0:2]"
      ]
    },
    {
      "cell_type": "code",
      "execution_count": null,
      "metadata": {
        "id": "PPBjpohnCimY"
      },
      "outputs": [],
      "source": [
        "sns.scatterplot(data=X, x='SepalLengthCm', y='PetalLengthCm', hue=y_preds);\n",
        "centers_x, centers_y = model.cluster_centers_[:,0], model.cluster_centers_[:,2]\n",
        "plt.plot(centers_x, centers_y, 'xb')"
      ]
    },
    {
      "cell_type": "code",
      "execution_count": null,
      "metadata": {
        "id": "TQBiCuokO_SY"
      },
      "outputs": [],
      "source": [
        "from sklearn.cluster import DBSCAN\n",
        "clf= DBSCAN(eps=3, min_samples=5)\n"
      ]
    },
    {
      "cell_type": "code",
      "execution_count": null,
      "metadata": {
        "id": "YdqoW-6APQCB"
      },
      "outputs": [],
      "source": [
        "clf"
      ]
    },
    {
      "cell_type": "code",
      "execution_count": null,
      "metadata": {
        "id": "nD7smsXQPQzs"
      },
      "outputs": [],
      "source": [
        "clf.fit(X)"
      ]
    },
    {
      "cell_type": "code",
      "execution_count": null,
      "metadata": {
        "id": "xESl4Ql_Pz05"
      },
      "outputs": [],
      "source": [
        "clf.labels_"
      ]
    }
  ],
  "metadata": {
    "colab": {
      "provenance": []
    },
    "kernelspec": {
      "display_name": "Python 3",
      "name": "python3"
    },
    "language_info": {
      "name": "python"
    }
  },
  "nbformat": 4,
  "nbformat_minor": 0
}